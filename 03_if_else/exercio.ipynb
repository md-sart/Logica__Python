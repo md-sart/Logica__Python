{
  "cells": [
    {
      "cell_type": "markdown",
      "source": [
        "# AULA 03_ If-Then-Else _EXERCICIOS"
      ],
      "metadata": {
        "id": "guaxIf-ikrSX"
      }
    },
    {
      "cell_type": "markdown",
      "source": [
        "# Exercício 1.\n",
        "\n",
        "Faça um programa que leia um número inteiro (e diferente de zero) e mostre\n",
        "uma mensagem indicando se este número é positivo ou negativo.\n"
      ],
      "metadata": {
        "id": "B9QM3rhd5qyF"
      }
    },
    {
      "cell_type": "code",
      "source": [
        "n1 = int(input('Digite um número:'))\n",
        "\n",
        "if n1 >=1:\n",
        "  print('O núnero', n1, 'é um numéro positivo!')\n",
        "\n",
        "elif n1 <=-1:\n",
        "  print('O número' , n1 ,'é um número negativo!')\n",
        "\n",
        "else:\n",
        "  print('Digite um número válido!')"
      ],
      "outputs": [
        {
          "output_type": "stream",
          "name": "stdout",
          "text": "Digite um número:0\nDigite um número válido!\n"
        }
      ],
      "execution_count": null,
      "metadata": {
        "colab": {
          "base_uri": "https://localhost:8080/"
        },
        "id": "FraAEVhqAO0D",
        "outputId": "ab6175de-353e-44d3-84d6-6cd718ba7cfb"
      }
    },
    {
      "cell_type": "markdown",
      "source": [
        "# Exercício 2.\n",
        "\n",
        "Faça um programa que apresenta o maior de dois números inteiros (diferentes)\n",
        "lidos do usuário."
      ],
      "metadata": {
        "id": "togBGl4COxeF"
      }
    },
    {
      "cell_type": "code",
      "source": [
        "n1 = int(input('Entre com o primeiro número: '))\n",
        "n2 = int(input('Entre com o segundo número: '))\n",
        "\n",
        "if (n1 > n2):\n",
        "  print(n1 , ' é maior que ' , n2)\n",
        "else:\n",
        "  print(n2 , ' é maior que ' , n1)"
      ],
      "outputs": [
        {
          "output_type": "stream",
          "name": "stdout",
          "text": "Entre com o primeiro número: 6\nEntre com o segundo número: 25\n25  é maior que  6\n"
        }
      ],
      "execution_count": null,
      "metadata": {
        "colab": {
          "base_uri": "https://localhost:8080/"
        },
        "id": "fnY0_mEu7clT",
        "outputId": "dc1d28b2-0dd0-4247-fe2f-6c4ba32f84b7"
      }
    },
    {
      "cell_type": "markdown",
      "source": [
        "# Exercício 3.\n",
        "\n",
        "Faça um programa que coloque dois nomes em ordem alfabética."
      ],
      "metadata": {
        "id": "43wqX7ZnPIxW"
      }
    },
    {
      "cell_type": "code",
      "source": [
        "def ordenar_nomes(nome1, nome2):\n",
        "    nome1 = nome1.lower()\n",
        "    nome2 = nome2.lower()\n",
        "\n",
        "    if nome1 < nome2:\n",
        "        return nome1, nome2\n",
        "    else:\n",
        "        return nome2, nome1\n",
        "\n",
        "nome1 = input(\"Digite o primeiro nome: \")\n",
        "nome2 = input(\"Digite o segundo nome: \")\n",
        "\n",
        "nome_ordenado1, nome_ordenado2 = ordenar_nomes(nome1, nome2)\n",
        "\n",
        "print(\"1.\", nome1, \"2.\", nome2)"
      ],
      "outputs": [
        {
          "output_type": "stream",
          "name": "stdout",
          "text": "Digite o primeiro nome: zeza\nDigite o segundo nome: maria\n1. zeza 2. maria\n"
        }
      ],
      "execution_count": 12,
      "metadata": {
        "colab": {
          "base_uri": "https://localhost:8080/"
        },
        "id": "qmxDex0nxkZz",
        "outputId": "4b788653-4f6c-455a-8726-f5e2742b53d0"
      }
    },
    {
      "cell_type": "markdown",
      "source": [
        "# Exercício 4.\n",
        "\n",
        "Faça um programa que apresente se o número que o usuário digitou é divisível\n",
        "por 3 e por 5 ao mesmo tempo.\n"
      ],
      "metadata": {
        "id": "OezHzCOwPyUA"
      }
    },
    {
      "cell_type": "code",
      "source": [
        "numero = int(input(\"Digite um número: \"))\n",
        "\n",
        "if numero % 3 == 0 and numero % 5 == 0:\n",
        "    print(numero, \"é divisível por 3 e por 5 ao mesmo tempo!\")\n",
        "else:\n",
        "    print(numero, \"não é divisível por 3 e por 5 ao mesmo tempo!\")"
      ],
      "outputs": [
        {
          "output_type": "stream",
          "name": "stdout",
          "text": "Digite um número: 15\n15 é divisível por 3 e por 5 ao mesmo tempo!\n"
        }
      ],
      "execution_count": 8,
      "metadata": {
        "colab": {
          "base_uri": "https://localhost:8080/"
        },
        "id": "UKpUyEH7znzG",
        "outputId": "b0b40fc6-4a1f-4a87-e7ef-62ba2775b4b3"
      }
    },
    {
      "cell_type": "markdown",
      "source": [
        "# Exercício 5.\n",
        "\n",
        "Elabore um programa que leia do teclado o sexo de uma pessoa. Se o sexo\n",
        "digitado for \"M\" ou \"m\" ou \"F\" ou \"f\", escrever na tela \"Sexo válido! \". Caso contrário,\n",
        "exibir \"Sexo inválido! \"."
      ],
      "metadata": {
        "id": "XOj0h9g6QEEs"
      }
    },
    {
      "cell_type": "code",
      "source": [
        "sexo = str(input('Digite seu sexo'))\n",
        "\n",
        "if(sexo == 'M' and 'm' and 'F' and 'f'):\n",
        "  print ('sexo válido!')\n",
        "\n",
        "else:\n",
        "  print('sexo inválido!')\n"
      ],
      "outputs": [
        {
          "output_type": "stream",
          "name": "stdout",
          "text": "Digite seu sexoj\nsexo inválido\n"
        }
      ],
      "execution_count": null,
      "metadata": {
        "colab": {
          "base_uri": "https://localhost:8080/"
        },
        "id": "RyTbE3FS7-3z",
        "outputId": "3f9d6ebe-e1e5-4936-cdaa-52ab1c34d2ef"
      }
    }
  ],
  "metadata": {
    "colab": {
      "provenance": []
    },
    "kernelspec": {
      "display_name": "Python 3 (ipykernel)",
      "language": "python",
      "name": "python3"
    },
    "language_info": {
      "codemirror_mode": {
        "name": "ipython",
        "version": 3
      },
      "file_extension": ".py",
      "mimetype": "text/x-python",
      "name": "python",
      "nbconvert_exporter": "python",
      "pygments_lexer": "ipython3",
      "version": "3.10.0"
    },
    "nteract": {
      "version": "nteract-front-end@1.0.0"
    }
  },
  "nbformat": 4,
  "nbformat_minor": 0
}